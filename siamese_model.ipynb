{
 "cells": [
  {
   "cell_type": "code",
   "execution_count": 1,
   "id": "1a2ae44f",
   "metadata": {},
   "outputs": [
    {
     "data": {
      "text/plain": [
       "'2.8.0'"
      ]
     },
     "execution_count": 1,
     "metadata": {},
     "output_type": "execute_result"
    }
   ],
   "source": [
    "# Import necessary library files\n",
    "import numpy as np\n",
    "import matplotlib.pyplot as plt\n",
    "import PIL\n",
    "from PIL import Image\n",
    "import os\n",
    "from dotenv import load_dotenv\n",
    "import glob\n",
    "import random\n",
    "from sklearn.model_selection import train_test_split\n",
    "import tensorflow as tf\n",
    "from tensorflow.keras.models import Model\n",
    "from tensorflow.keras.models import load_model \n",
    "from tensorflow.keras.layers import Input, Activation, GlobalAveragePooling2D, Dense, Lambda\n",
    "from tensorflow.keras import backend as K\n",
    "import visualkeras\n",
    "tf.__version__"
   ]
  },
  {
   "cell_type": "code",
   "execution_count": 2,
   "id": "dcb97e6f",
   "metadata": {},
   "outputs": [
    {
     "data": {
      "text/plain": [
       "True"
      ]
     },
     "execution_count": 2,
     "metadata": {},
     "output_type": "execute_result"
    }
   ],
   "source": [
    "# Load env vars\n",
    "load_dotenv()"
   ]
  },
  {
   "cell_type": "code",
   "execution_count": 3,
   "id": "a210a9fd",
   "metadata": {},
   "outputs": [],
   "source": [
    "if os.getenv('CUDA_OPTIMIZE'):\n",
    "    physical_devices = tf.config.list_physical_devices('GPU')\n",
    "    tf.config.experimental.set_memory_growth(physical_devices[0], enable=True)\n",
    "    tf.compat.v1.disable_eager_execution()\n"
   ]
  },
  {
   "cell_type": "code",
   "execution_count": 4,
   "id": "c5a4c42c",
   "metadata": {},
   "outputs": [],
   "source": [
    "DATA_PATH_PREFIX = os.getenv('DATA_PATH_PREFIX') if os.getenv('DATA_PATH_PREFIX') else 'dataset/'\n"
   ]
  },
  {
   "cell_type": "code",
   "execution_count": 5,
   "id": "4c3da80b",
   "metadata": {},
   "outputs": [],
   "source": [
    "# Set common params\n",
    "im_height = 200\n",
    "im_width = 200\n",
    "num_channels = 3\n",
    "num_p = 20\n",
    "num_im = 100"
   ]
  },
  {
   "cell_type": "code",
   "execution_count": 6,
   "id": "5bad1b3d",
   "metadata": {},
   "outputs": [],
   "source": [
    "def random_element(exclude, range_):\n",
    "    return random.choice(list(set([x for x in range(0, range_)]) - set([exclude])))\n",
    "\n",
    "def generate_pairs(vid):\n",
    "    \n",
    "#     y1, y2, y3, y4\n",
    "#     s1, s2, s3, s4\n",
    "#     y1, yr 1\n",
    "#     y1, sr 0\n",
    "#     y2, yr 1\n",
    "#     y2, sr 0\n",
    "#     y3, yr\n",
    "#     y3, sr\n",
    "#     y4, yr 1\n",
    "#     y4, sr, 0\n",
    "\n",
    "#     2,4\n",
    "#     im[0][2] -> 0th person, 2nd image\n",
    "#     im[1][1] -> \n",
    "\n",
    "#     75*20*100*2\n",
    "    \n",
    "    images = np.zeros((num_p, num_im, im_height, im_width,\n",
    "                      num_channels), dtype='uint8')\n",
    "    path = DATA_PATH_PREFIX+'jpg_Extracted_PIDS/'+str(vid)+'/'\n",
    "    folders = ([name for name in os.listdir(path) if os.path.isdir(os.path.join(path, name))])\n",
    "    folders.sort() # People\n",
    "    folders = folders[1:1+num_p]\n",
    "    for i,folder in enumerate(folders):\n",
    "        temp_path = path+folder+'/'\n",
    "        files = glob.glob(temp_path+'*', recursive=True) # Image\n",
    "        files = random.choices(files, k=num_im)\n",
    "        for j,filename in enumerate(files):\n",
    "            with Image.open(filename) as im:\n",
    "                im = im.resize((im_height, im_width))\n",
    "                images[i,j] = np.array(im)\n",
    "                \n",
    "#     plt.imshow(images[1,0].astype(\"uint8\"))\n",
    "    X = np.zeros((num_p*num_im*2, 2, im_height, im_width, num_channels), dtype='uint8')  # (16 X 2 X 200 X 200 X 3)\n",
    "    Y = np.zeros((num_p*num_im*2), dtype='uint8')\n",
    "    v = 0\n",
    "    for i in range(num_p):\n",
    "        for j in range(num_im):\n",
    "            p1 = np.concatenate(([images[i][j]],[images[i][random_element(j,num_im)]]))\n",
    "            p2 = np.concatenate(([images[i][j]],[images[random_element(i,num_p)][random_element(j,num_im)]]))\n",
    "            X[v] = p1\n",
    "            Y[v] = 1.0\n",
    "            v+=1\n",
    "            X[v] = p2\n",
    "            Y[v] = 0.0\n",
    "            v+=1\n",
    "    \n",
    "    return X,Y\n"
   ]
  },
  {
   "cell_type": "code",
   "execution_count": 7,
   "id": "be11bcf2",
   "metadata": {},
   "outputs": [
    {
     "name": "stdout",
     "output_type": "stream",
     "text": [
      "(4000, 2, 200, 200, 3) (4000,)\n"
     ]
    }
   ],
   "source": [
    "X, Y = generate_pairs('12-11-2019-4-1')\n",
    "print(X.shape, Y.shape)"
   ]
  },
  {
   "cell_type": "code",
   "execution_count": 8,
   "id": "826e51ae",
   "metadata": {},
   "outputs": [
    {
     "name": "stdout",
     "output_type": "stream",
     "text": [
      "Number of videos: 75\n"
     ]
    }
   ],
   "source": [
    "path = DATA_PATH_PREFIX+'jpg_Extracted_PIDS/'\n",
    "folders = ([name for name in os.listdir(path) if os.path.isdir(os.path.join(path, name))])\n",
    "# print(folders)\n",
    "print(\"Number of videos:\", len(folders))"
   ]
  },
  {
   "cell_type": "code",
   "execution_count": 9,
   "id": "9754acfb",
   "metadata": {},
   "outputs": [],
   "source": [
    "# Training with a generator\n",
    "def data_generator(batch_size, eph):\n",
    "    for _ in range(eph):\n",
    "#         steps = 300000//batch_size\n",
    "        # our steps will be 3000\n",
    "        for f in folders:\n",
    "            X_batch, Y_batch = generate_pairs(f) # 4000\n",
    "            for i in  range(0, num_p*num_im*2, batch_size):\n",
    "                yield [X_batch[i:i+batch_size, 0], X_batch[i:i+batch_size, 1]], Y_batch[i:i+batch_size]"
   ]
  },
  {
   "cell_type": "code",
   "execution_count": 10,
   "id": "6d3543d7",
   "metadata": {},
   "outputs": [
    {
     "name": "stdout",
     "output_type": "stream",
     "text": [
      "WARNING:tensorflow:From c:\\programdata\\anaconda3\\lib\\site-packages\\keras\\layers\\normalization\\batch_normalization.py:532: _colocate_with (from tensorflow.python.framework.ops) is deprecated and will be removed in a future version.\n",
      "Instructions for updating:\n",
      "Colocations handled automatically by placer.\n"
     ]
    }
   ],
   "source": [
    "base_model = tf.keras.applications.InceptionV3(\n",
    "    weights=\"imagenet\",  # Load weights pre-trained on ImageNet.\n",
    "    input_shape=(im_height, im_width, num_channels),\n",
    "    include_top=False,\n",
    ")\n",
    "# Freeze the base_model\n",
    "base_model.trainable = False"
   ]
  },
  {
   "cell_type": "code",
   "execution_count": 11,
   "id": "5c1e9e3d",
   "metadata": {},
   "outputs": [],
   "source": [
    "def l1_distance(inputs):\n",
    "    input1, input2 = inputs\n",
    "    output = K.abs(input1 - input2)\n",
    "    return output\n",
    "\n",
    "def l1_distance_output_shape(shapes):\n",
    "    shape1, shape2 = shapes\n",
    "    assert shape1 == shape2\n",
    "    return (1,)"
   ]
  },
  {
   "cell_type": "code",
   "execution_count": 12,
   "id": "6fe68c39",
   "metadata": {},
   "outputs": [],
   "source": [
    "def siamese_model():\n",
    "    input1 = Input(shape=(im_height, im_width, num_channels,))\n",
    "    input2 = Input(shape=(im_height, im_width, num_channels,))\n",
    "    processed_input1 = tf.keras.applications.inception_v3.preprocess_input(input1)\n",
    "    processed_input2 = tf.keras.applications.inception_v3.preprocess_input(input2)\n",
    "    feature_vec1 = base_model(processed_input1)\n",
    "    feature_vec2 = base_model(processed_input2)\n",
    "    pool1 = GlobalAveragePooling2D()(feature_vec1) # 6x6x2048 -> 2048\n",
    "    pool2 = GlobalAveragePooling2D()(feature_vec2)\n",
    "    distance = Lambda(l1_distance, output_shape=l1_distance_output_shape)([pool1, pool2])\n",
    "#     pool = GlobalAveragePooling2D()(distance)\n",
    "    d1 = Dense(256)(distance)\n",
    "    d2 = Dense(1)(d1)\n",
    "    output = Activation('sigmoid')(d2)\n",
    "    return Model(inputs=[input1, input2], outputs=output)"
   ]
  },
  {
   "cell_type": "code",
   "execution_count": 23,
   "id": "5c986fdf",
   "metadata": {},
   "outputs": [],
   "source": [
    "def plot_history(histories):\n",
    "    # summarize history for accuracy\n",
    "    plt.plot(histories['train'].history['binary_accuracy'])\n",
    "    plt.plot(histories['tune'].history['binary_accuracy'])\n",
    "    plt.title('model accuracy')\n",
    "    plt.ylabel('accuracy')\n",
    "    plt.xlabel('epoch')\n",
    "    plt.legend(['train', 'tune'], loc='upper left')\n",
    "    plt.show()\n",
    "    # summarize history for loss\n",
    "    plt.plot(histories['train'].history['loss'])\n",
    "    plt.plot(histories['tune'].history['loss'])\n",
    "    plt.title('model loss')\n",
    "    plt.ylabel('loss')\n",
    "    plt.xlabel('epoch')\n",
    "    plt.legend(['train', 'tune'], loc='upper left')\n",
    "    plt.show()\n"
   ]
  },
  {
   "cell_type": "code",
   "execution_count": 14,
   "id": "73dc5d6f",
   "metadata": {},
   "outputs": [],
   "source": [
    "visualize = lambda model: display(visualkeras.layered_view(model, to_file='architecture.png', legend=True))"
   ]
  },
  {
   "cell_type": "code",
   "execution_count": 15,
   "id": "7933ce0e",
   "metadata": {},
   "outputs": [
    {
     "data": {
      "image/png": "[encoded data removed]",
      "text/plain": [
       "<PIL.Image.Image image mode=RGBA size=1282x1103 at 0x2A1D09F43A0>"
      ]
     },
     "metadata": {},
     "output_type": "display_data"
    },
    {
     "name": "stdout",
     "output_type": "stream",
     "text": [
      "Model: \"model\"\n",
      "__________________________________________________________________________________________________\n",
      " Layer (type)                   Output Shape         Param #     Connected to                     \n",
      "==================================================================================================\n",
      " input_2 (InputLayer)           [(None, 200, 200, 3  0           []                               \n",
      "                                )]                                                                \n",
      "                                                                                                  \n",
      " input_3 (InputLayer)           [(None, 200, 200, 3  0           []                               \n",
      "                                )]                                                                \n",
      "                                                                                                  \n",
      " tf_op_layer_truediv (TensorFlo  [(None, 200, 200, 3  0          ['input_2[0][0]']                \n",
      " wOpLayer)                      )]                                                                \n",
      "                                                                                                  \n",
      " tf_op_layer_truediv_1 (TensorF  [(None, 200, 200, 3  0          ['input_3[0][0]']                \n",
      " lowOpLayer)                    )]                                                                \n",
      "                                                                                                  \n",
      " tf_op_layer_sub (TensorFlowOpL  [(None, 200, 200, 3  0          ['tf_op_layer_truediv[0][0]']    \n",
      " ayer)                          )]                                                                \n",
      "                                                                                                  \n",
      " tf_op_layer_sub_1 (TensorFlowO  [(None, 200, 200, 3  0          ['tf_op_layer_truediv_1[0][0]']  \n",
      " pLayer)                        )]                                                                \n",
      "                                                                                                  \n",
      " inception_v3 (Functional)      (None, 4, 4, 2048)   21802784    ['tf_op_layer_sub[0][0]',        \n",
      "                                                                  'tf_op_layer_sub_1[0][0]']      \n",
      "                                                                                                  \n",
      " global_average_pooling2d (Glob  (None, 2048)        0           ['inception_v3[0][0]']           \n",
      " alAveragePooling2D)                                                                              \n",
      "                                                                                                  \n",
      " global_average_pooling2d_1 (Gl  (None, 2048)        0           ['inception_v3[1][0]']           \n",
      " obalAveragePooling2D)                                                                            \n",
      "                                                                                                  \n",
      " lambda (Lambda)                (None, 2048)         0           ['global_average_pooling2d[0][0]'\n",
      "                                                                 , 'global_average_pooling2d_1[0][\n",
      "                                                                 0]']                             \n",
      "                                                                                                  \n",
      " dense (Dense)                  (None, 256)          524544      ['lambda[0][0]']                 \n",
      "                                                                                                  \n",
      " dense_1 (Dense)                (None, 1)            257         ['dense[0][0]']                  \n",
      "                                                                                                  \n",
      " activation_94 (Activation)     (None, 1)            0           ['dense_1[0][0]']                \n",
      "                                                                                                  \n",
      "==================================================================================================\n",
      "Total params: 22,327,585\n",
      "Trainable params: 524,801\n",
      "Non-trainable params: 21,802,784\n",
      "__________________________________________________________________________________________________\n"
     ]
    }
   ],
   "source": [
    "model = siamese_model()\n",
    "model.compile(optimizer='adam', loss='binary_crossentropy', metrics=['binary_accuracy'])\n",
    "visualize(model)\n",
    "model.summary()"
   ]
  },
  {
   "cell_type": "code",
   "execution_count": 16,
   "id": "16fee26c",
   "metadata": {},
   "outputs": [],
   "source": [
    "history = {}"
   ]
  },
  {
   "cell_type": "code",
   "execution_count": 17,
   "id": "71d19f7e",
   "metadata": {},
   "outputs": [
    {
     "name": "stdout",
     "output_type": "stream",
     "text": [
      "Epoch 1/5\n",
      "3000/3000 [==============================] - 91s 28ms/step - batch: 1499.5000 - size: 1.0000 - loss: 0.5575 - binary_accuracy: 0.7853\n",
      "Epoch 2/5\n",
      "3000/3000 [==============================] - 89s 30ms/step - batch: 1499.5000 - size: 1.0000 - loss: 0.4878 - binary_accuracy: 0.7790\n",
      "Epoch 3/5\n",
      "3000/3000 [==============================] - 84s 28ms/step - batch: 1499.5000 - size: 1.0000 - loss: 0.5231 - binary_accuracy: 0.7540\n",
      "Epoch 4/5\n",
      "3000/3000 [==============================] - 82s 27ms/step - batch: 1499.5000 - size: 1.0000 - loss: 0.5186 - binary_accuracy: 0.7650\n",
      "Epoch 5/5\n",
      "3000/3000 [==============================] - 84s 27ms/step - batch: 1499.5000 - size: 1.0000 - loss: 0.5047 - binary_accuracy: 0.7760\n"
     ]
    }
   ],
   "source": [
    "bs = int(os.getenv('BATCH_SIZE_TRAIN')) if os.getenv('BATCH_SIZE_TRAIN') else 100\n",
    "eph = 5\n",
    "history['train'] = model.fit(data_generator(bs, eph), epochs=eph, steps_per_epoch=3000)\n",
    "# model.fit([X[:,0], X[:,1]], Y, batch_size=bs, epochs=eph)\n"
   ]
  },
  {
   "cell_type": "code",
   "execution_count": 18,
   "id": "aaf39d46",
   "metadata": {},
   "outputs": [
    {
     "name": "stdout",
     "output_type": "stream",
     "text": [
      "Epoch 1/5\n",
      "3000/3000 [==============================] - 274s 88ms/step - batch: 1499.5000 - size: 1.0000 - loss: 0.2180 - binary_accuracy: 0.9227\n",
      "Epoch 2/5\n",
      "3000/3000 [==============================] - 257s 86ms/step - batch: 1499.5000 - size: 1.0000 - loss: 0.2517 - binary_accuracy: 0.9007\n",
      "Epoch 3/5\n",
      "3000/3000 [==============================] - 257s 86ms/step - batch: 1499.5000 - size: 1.0000 - loss: 0.2734 - binary_accuracy: 0.9007\n",
      "Epoch 4/5\n",
      "3000/3000 [==============================] - 253s 84ms/step - batch: 1499.5000 - size: 1.0000 - loss: 0.1829 - binary_accuracy: 0.9297\n",
      "Epoch 5/5\n",
      "3000/3000 [==============================] - 252s 83ms/step - batch: 1499.5000 - size: 1.0000 - loss: 0.2144 - binary_accuracy: 0.9210\n"
     ]
    }
   ],
   "source": [
    "base_model.trainable = True\n",
    "model.compile(\n",
    "    optimizer=tf.keras.optimizers.Adam(1e-5),\n",
    "    loss='binary_crossentropy',\n",
    "    metrics=['binary_accuracy']\n",
    "    )\n",
    "bs = int(os.getenv('BATCH_SIZE_TUNE')) if os.getenv('BATCH_SIZE_TUNE') else 10\n",
    "eph = 5\n",
    "history['tune'] = model.fit(data_generator(bs, eph), epochs=eph, steps_per_epoch=3000)\n",
    "# model.fit([X[:,0], X[:,1]], Y, epochs=eph, batch_size=bs)\n"
   ]
  },
  {
   "cell_type": "code",
   "execution_count": 19,
   "id": "ced710dd",
   "metadata": {},
   "outputs": [],
   "source": [
    "model.save('siamese_1vid.h5')"
   ]
  },
  {
   "cell_type": "code",
   "execution_count": 24,
   "id": "ecc6a43e",
   "metadata": {},
   "outputs": [
    {
     "data": {
      "image/png": "[encoded data removed]",
      "text/plain": [
       "<Figure size 432x288 with 1 Axes>"
      ]
     },
     "metadata": {
      "needs_background": "light"
     },
     "output_type": "display_data"
    },
    {
     "data": {
      "image/png": "[encoded data removed]",
      "text/plain": [
       "<Figure size 432x288 with 1 Axes>"
      ]
     },
     "metadata": {
      "needs_background": "light"
     },
     "output_type": "display_data"
    }
   ],
   "source": [
    "plot_history(history)"
   ]
  },
  {
   "cell_type": "markdown",
   "id": "68e99589",
   "metadata": {},
   "source": [
    "References:\n",
    "    https://github.com/aup8497/Person-Re-identification-using-Siamese-networks/blob/master/Code/siamese_model.py"
   ]
  },
  {
   "cell_type": "code",
   "execution_count": null,
   "id": "b0b98c0d",
   "metadata": {},
   "outputs": [
    {
     "data": {
      "text/plain": [
       "[PhysicalDevice(name='/physical_device:GPU:0', device_type='GPU')]"
      ]
     },
     "execution_count": 3,
     "metadata": {},
     "output_type": "execute_result"
    }
   ],
   "source": [
    "tf.config.list_physical_devices('GPU')"
   ]
  },
  {
   "cell_type": "code",
   "execution_count": null,
   "id": "91c2f558",
   "metadata": {},
   "outputs": [
    {
     "name": "stdout",
     "output_type": "stream",
     "text": [
      "eagerly? True\n",
      "[LogicalDevice(name='/device:CPU:0', device_type='CPU'), LogicalDevice(name='/device:GPU:0', device_type='GPU')]\n"
     ]
    }
   ],
   "source": [
    "from sys import platform\n",
    "# If the platform is macOS\n",
    "if platform == 'darwin':\n",
    "    ### Aman's code to enable the GPU\n",
    "    from tensorflow.python.compiler.mlcompute import mlcompute\n",
    "    tf.compat.v1.disable_eager_execution()\n",
    "    mlcompute.set_mlc_device(device_name='gpu')\n",
    "    print(\"is_apple_mlc_enabled %s\" % mlcompute.is_apple_mlc_enabled())\n",
    "    print(\"is_tf_compiled_with_apple_mlc %s\" % mlcompute.is_tf_compiled_with_apple_mlc())\n",
    "print(f\"eagerly? {tf.executing_eagerly()}\")\n",
    "print(tf.config.list_logical_devices())\n"
   ]
  }
 ],
 "metadata": {
  "kernelspec": {
   "display_name": "Python 3 (ipykernel)",
   "language": "python",
   "name": "python3"
  },
  "language_info": {
   "codemirror_mode": {
    "name": "ipython",
    "version": 3
   },
   "file_extension": ".py",
   "mimetype": "text/x-python",
   "name": "python",
   "nbconvert_exporter": "python",
   "pygments_lexer": "ipython3",
   "version": "3.9.7"
  }
 },
 "nbformat": 4,
 "nbformat_minor": 5
}
